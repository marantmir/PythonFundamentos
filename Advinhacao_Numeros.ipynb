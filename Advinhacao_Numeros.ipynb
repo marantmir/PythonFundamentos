{
  "nbformat": 4,
  "nbformat_minor": 0,
  "metadata": {
    "colab": {
      "provenance": [],
      "authorship_tag": "ABX9TyN2EX0Al35rF3rnjquW9/vz",
      "include_colab_link": true
    },
    "kernelspec": {
      "name": "python3",
      "display_name": "Python 3"
    },
    "language_info": {
      "name": "python"
    }
  },
  "cells": [
    {
      "cell_type": "markdown",
      "metadata": {
        "id": "view-in-github",
        "colab_type": "text"
      },
      "source": [
        "<a href=\"https://colab.research.google.com/github/marantmir/PythonFundamentos/blob/master/Advinhacao_Numeros.ipynb\" target=\"_parent\"><img src=\"https://colab.research.google.com/assets/colab-badge.svg\" alt=\"Open In Colab\"/></a>"
      ]
    },
    {
      "cell_type": "markdown",
      "source": [
        "**Importando as Bibliotecas***"
      ],
      "metadata": {
        "id": "36tiWaJACIoZ"
      }
    },
    {
      "cell_type": "code",
      "execution_count": 6,
      "metadata": {
        "id": "HJo8MJCKB9gs"
      },
      "outputs": [],
      "source": [
        "import random\n",
        "import math"
      ]
    },
    {
      "cell_type": "markdown",
      "source": [
        "**Recebendo informações do usuário**"
      ],
      "metadata": {
        "id": "CGxmdDh1bmKz"
      }
    },
    {
      "cell_type": "code",
      "source": [
        "# Recebendo o número mais baixo\n",
        "num_lower = int(input(\"Digite o número mínimo: - \"))\n",
        "\n",
        "# Recebendo o número mais alto\n",
        "num_upper = int(input(\"Digite o número mais alto: - \"))"
      ],
      "metadata": {
        "colab": {
          "base_uri": "https://localhost:8080/"
        },
        "id": "kwR1a3Qlbp_0",
        "outputId": "70e262a9-82eb-4476-d0ed-90bad25962ba"
      },
      "execution_count": 7,
      "outputs": [
        {
          "name": "stdout",
          "output_type": "stream",
          "text": [
            "Digite o número mínimo: - 67\n",
            "Digite o número mais alto: - 70\n"
          ]
        }
      ]
    },
    {
      "cell_type": "markdown",
      "source": [
        "**Escolhendo o número aleatóriamente e gerando a quantidade de alternativas**"
      ],
      "metadata": {
        "id": "Viw1alZwcVdh"
      }
    },
    {
      "cell_type": "code",
      "source": [
        "# Escolhendo o número aleatório e guardando em uma variável\n",
        "chosen_num = random.randint(num_lower, num_upper)\n",
        "\n",
        "# Gerando quantidade de alternativas\n",
        "print(\"\\n\\tVocê só tem \", round(math.log(num_upper - num_lower + 1, 2)), \" chances de adivinhar o número inteiro!\\n\")"
      ],
      "metadata": {
        "colab": {
          "base_uri": "https://localhost:8080/"
        },
        "id": "KztPgLYAce5l",
        "outputId": "44a3bb4a-7430-4217-c11d-d981c1a2916f"
      },
      "execution_count": 11,
      "outputs": [
        {
          "output_type": "stream",
          "name": "stdout",
          "text": [
            "\n",
            "\tVocê só tem  2  chances de adivinhar o número inteiro!\n",
            "\n",
            "69\n"
          ]
        }
      ]
    },
    {
      "cell_type": "markdown",
      "source": [
        "**Loop até que se advinhe o número correto ou enquanto expirar a quantidade de advinhações**"
      ],
      "metadata": {
        "id": "p9OiOTnrmlZ4"
      }
    },
    {
      "cell_type": "code",
      "source": [
        "from types import new_class\n",
        "# Declarando e iniciando a variável de contagem\n",
        "\n",
        "count = 0\n",
        "\n",
        "# Regra para solicitar nova advinhação até atender as condições\n",
        "\n",
        "while count < math.log(num_upper - num_lower + 1, 2):\n",
        "  count += 1\n",
        "  new_guess = int(input(\"Advinhe um número: - \"))\n",
        "  if chosen_num == new_guess:\n",
        "    print(\"Parabéns você fez isso em \", count, \" vezes\")\n",
        "    break\n",
        "\n",
        "  elif chosen_num > new_guess:\n",
        "    print(\"Você advinhou um número muito baixo!\")\n",
        "  elif chosen_num < new_guess:\n",
        "    print(\"Você advinhou um número muito alto!\")\n",
        "\n",
        "if count >= math.log(num_upper - num_lower + 1, 2):\n",
        "  print(\"\\nO número é %d\"%new_guess)\n",
        "  print(\"Mais sorte da próxima vez!\")"
      ],
      "metadata": {
        "colab": {
          "base_uri": "https://localhost:8080/"
        },
        "id": "T77Y0Sbumvwp",
        "outputId": "a151c003-bb10-4841-afda-d8f04f3c7157"
      },
      "execution_count": 13,
      "outputs": [
        {
          "output_type": "stream",
          "name": "stdout",
          "text": [
            "Advinhe um número: - 67\n",
            "Você advinhou um número muito baixo!\n",
            "Advinhe um número: - 69\n",
            "Parabéns você fez isso em  2  vezes\n",
            "\n",
            "O número é 69\n",
            "Mais sorte da próxima vez!\n"
          ]
        }
      ]
    }
  ]
}