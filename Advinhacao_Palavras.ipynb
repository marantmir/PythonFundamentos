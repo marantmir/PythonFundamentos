{
  "nbformat": 4,
  "nbformat_minor": 0,
  "metadata": {
    "colab": {
      "provenance": [],
      "authorship_tag": "ABX9TyOPE5jcU0v6XZpGLrEs0A0j",
      "include_colab_link": true
    },
    "kernelspec": {
      "name": "python3",
      "display_name": "Python 3"
    },
    "language_info": {
      "name": "python"
    }
  },
  "cells": [
    {
      "cell_type": "markdown",
      "metadata": {
        "id": "view-in-github",
        "colab_type": "text"
      },
      "source": [
        "<a href=\"https://colab.research.google.com/github/marantmir/PythonFundamentos/blob/master/Advinhacao_Palavras.ipynb\" target=\"_parent\"><img src=\"https://colab.research.google.com/assets/colab-badge.svg\" alt=\"Open In Colab\"/></a>"
      ]
    },
    {
      "cell_type": "markdown",
      "source": [
        "**Importando a biblioteca**"
      ],
      "metadata": {
        "id": "lOnXtXgRwnAC"
      }
    },
    {
      "cell_type": "code",
      "execution_count": 26,
      "metadata": {
        "id": "YQ0Y5GDQwduz"
      },
      "outputs": [],
      "source": [
        "import random"
      ]
    },
    {
      "cell_type": "markdown",
      "source": [
        "**Coletando informação do usuário e boas vindas**"
      ],
      "metadata": {
        "id": "bgvhjfDVw0Ie"
      }
    },
    {
      "cell_type": "code",
      "source": [
        "# Coletando o nome do usuário e armazendo em uma variável\n",
        "nome_usuario = input(\"Qual o seu nome? \")\n",
        "\n",
        "# \n",
        "print(\"Seja muito bem vindo\",nome_usuario + \" e boa sorte!\")"
      ],
      "metadata": {
        "colab": {
          "base_uri": "https://localhost:8080/"
        },
        "id": "Udyoxob9w8op",
        "outputId": "b8879395-aa40-4a27-e9de-fe564ce8dd85"
      },
      "execution_count": 27,
      "outputs": [
        {
          "output_type": "stream",
          "name": "stdout",
          "text": [
            "Qual o seu nome? Marco\n",
            "Seja muito bem vindo Marco e boa sorte!\n"
          ]
        }
      ]
    },
    {
      "cell_type": "markdown",
      "source": [
        "**Lista de palavras para advinhação e escolha de uma delas aleatoriamente**"
      ],
      "metadata": {
        "id": "d25I_18KyGW6"
      }
    },
    {
      "cell_type": "code",
      "source": [
        "# Gerando a lista\n",
        "lista_palavras = ['batata', 'giz', 'controle', 'cerveja', 'arroz', 'televisao', 'banana', 'sucesso', 'paz', 'amor', 'harmonia', 'futebol', 'porta', 'prosperidade', 'computador', 'ciência', 'jogo', 'agua']\n",
        "\n",
        "# Escolhendo uma palavra aleatoriamente\n",
        "palavra_selecionada = random.choice(lista_palavras)"
      ],
      "metadata": {
        "id": "sMM4_gW6yOGZ"
      },
      "execution_count": 28,
      "outputs": []
    },
    {
      "cell_type": "markdown",
      "source": [
        "**Advinhando os caracteres**"
      ],
      "metadata": {
        "id": "icNuWIvm1CCc"
      }
    },
    {
      "cell_type": "code",
      "source": [
        "# Solicitando ao usuário que digite uma letra\n",
        "print(\"Advinhe as letras\")\n",
        "\n",
        "# Coletando os palpites\n",
        "palpites = ''\n",
        "\n",
        "oportunidades = 12"
      ],
      "metadata": {
        "colab": {
          "base_uri": "https://localhost:8080/"
        },
        "id": "KSxBXR7z5ZZe",
        "outputId": "a03ccc67-50e2-4e7f-dae4-6b1d19c4e7b5"
      },
      "execution_count": 32,
      "outputs": [
        {
          "output_type": "stream",
          "name": "stdout",
          "text": [
            "Advinhe as letras\n"
          ]
        }
      ]
    },
    {
      "cell_type": "code",
      "source": [
        "while oportunidades > 0:\n",
        "  falha = 0\n",
        "\n",
        "  for letra in palavra_selecionada:\n",
        "    if letra in palpites:\n",
        "      print(letra)\n",
        "    else:\n",
        "      print(\"_\")\n",
        "      falha += 1\n",
        "\n",
        "  if falha == 0:\n",
        "     print(\"Você ganhou!\")\n",
        "     print(\"A palavra é: \", palavra_selecionada)\n",
        "     break\n",
        "\n",
        "  palpite = input(\"Advinhe uma letra: \")\n",
        "\n",
        "  palpite = palpite.lower()\n",
        "\n",
        "  palpites += palpite\n",
        "\n",
        "  if palpite not in palavra_selecionada:\n",
        "     oportunidades -=1\n",
        "     print(\"Letra errada\")\n",
        "     print(\"Você ainda tem \", + oportunidades, 'palpites')\n",
        "\n",
        "     if oportunidades == 0:\n",
        "       print(\"Você perdeu!\")"
      ],
      "metadata": {
        "colab": {
          "base_uri": "https://localhost:8080/"
        },
        "id": "qax8m-X41GAJ",
        "outputId": "2ad462f8-71b5-47dd-9fde-e825dbcb963f"
      },
      "execution_count": 33,
      "outputs": [
        {
          "output_type": "stream",
          "name": "stdout",
          "text": [
            "_\n",
            "_\n",
            "_\n",
            "Advinhe uma letra: A\n",
            "_\n",
            "a\n",
            "_\n",
            "Advinhe uma letra: E\n",
            "Letra errada\n",
            "Você ainda tem  11 palpites\n",
            "_\n",
            "a\n",
            "_\n",
            "Advinhe uma letra: O\n",
            "Letra errada\n",
            "Você ainda tem  10 palpites\n",
            "_\n",
            "a\n",
            "_\n",
            "Advinhe uma letra: T\n",
            "Letra errada\n",
            "Você ainda tem  9 palpites\n",
            "_\n",
            "a\n",
            "_\n",
            "Advinhe uma letra: E\n",
            "Letra errada\n",
            "Você ainda tem  8 palpites\n",
            "_\n",
            "a\n",
            "_\n",
            "Advinhe uma letra: P\n",
            "p\n",
            "a\n",
            "_\n",
            "Advinhe uma letra: Z\n",
            "p\n",
            "a\n",
            "z\n",
            "Você ganhou!\n",
            "A palavra é:  paz\n"
          ]
        }
      ]
    }
  ]
}